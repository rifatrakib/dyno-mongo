{
 "cells": [
  {
   "cell_type": "code",
   "execution_count": 1,
   "metadata": {},
   "outputs": [],
   "source": [
    "from utils import MongoConnectionManager\n",
    "from pprint import pprint\n",
    "import os"
   ]
  },
  {
   "cell_type": "code",
   "execution_count": 2,
   "metadata": {},
   "outputs": [],
   "source": [
    "def build_match_query(query_parameters):\n",
    "    match_query = {}\n",
    "    \n",
    "    for key, value in query_parameters.items():\n",
    "        field_name = key.upper()\n",
    "        if type(value) == list:\n",
    "            match_query[field_name] = {'$in': value}\n",
    "        else:\n",
    "            match_query[field_name] = {\n",
    "                '$gte': float(value['min']),\n",
    "                '$lte': float(value['max'])\n",
    "            }\n",
    "    \n",
    "    return match_query"
   ]
  },
  {
   "cell_type": "code",
   "execution_count": 3,
   "metadata": {},
   "outputs": [],
   "source": [
    "def extend_geoquery(query, query_parameters):\n",
    "    for key, value in query_parameters.items():\n",
    "        if key in {'latitude', 'longitude'}:\n",
    "            continue\n",
    "        field_name = key.upper()\n",
    "        if type(value) == list:\n",
    "            query[field_name] = {'$in': value}\n",
    "        else:\n",
    "            query[field_name] = {\n",
    "                '$gte': float(value['min']),\n",
    "                '$lte': float(value['max'])\n",
    "            }\n",
    "    \n",
    "    return query"
   ]
  },
  {
   "cell_type": "code",
   "execution_count": 4,
   "metadata": {},
   "outputs": [],
   "source": [
    "def build_table_sort_query(sort_parameters, geo_query=False):\n",
    "    sort_fields = sort_parameters['sort_fields'][::-1]\n",
    "    sort_directions = sort_parameters['sort_directions'][::-1]\n",
    "    \n",
    "    if geo_query:\n",
    "        sort_query = list()\n",
    "    else:\n",
    "        sort_query = dict()\n",
    "    for field, direction in zip(sort_fields, sort_directions):\n",
    "        if geo_query:\n",
    "            sort_query.append((field.upper(), int(direction)))\n",
    "        else:\n",
    "            sort_query[field.upper()] = int(direction)\n",
    "    \n",
    "    return sort_query"
   ]
  },
  {
   "cell_type": "code",
   "execution_count": 5,
   "metadata": {},
   "outputs": [],
   "source": [
    "def get_table_data(section_name, query_parameters, page_number, sort_parameters):\n",
    "    match_query = build_match_query(query_parameters)\n",
    "    pipeline = [{'$match': match_query}]\n",
    "    \n",
    "    if sort_parameters:\n",
    "        sort_query = build_table_sort_query(sort_parameters)\n",
    "        pipeline.append({'$sort': sort_query})\n",
    "    \n",
    "    offset = (page_number - 1) * 50\n",
    "    pipeline.extend([\n",
    "        {'$skip': offset},\n",
    "        {'$limit': 50},\n",
    "        {'$project': {'_id': 0}}\n",
    "    ])\n",
    "    \n",
    "    database = os.environ.get('DATABASE')\n",
    "    collection_name = f'{section_name}_collection'\n",
    "    with MongoConnectionManager(database, collection_name) as collection:\n",
    "        data = list(collection.aggregate(pipeline=pipeline, allowDiskUse=True))\n",
    "    \n",
    "    return data"
   ]
  },
  {
   "cell_type": "code",
   "execution_count": 6,
   "metadata": {},
   "outputs": [],
   "source": [
    "def get_map_based_table_data(section_name, query_parameters, page_number, sort_parameters, polygon):\n",
    "    query = {\n",
    "        'geometry': {\n",
    "            '$geoWithin': {\n",
    "                '$geometry': {\n",
    "                    'type': 'Polygon',\n",
    "                    'coordinates': [polygon]\n",
    "                }\n",
    "            }\n",
    "        }\n",
    "    }\n",
    "    \n",
    "    if query_parameters:\n",
    "        query = extend_geoquery(query, query_parameters)\n",
    "    \n",
    "    offset = (page_number - 1) * 50\n",
    "    sort_query = None\n",
    "    if sort_parameters:\n",
    "        sort_query = build_table_sort_query(sort_parameters, geo_query=True)\n",
    "    \n",
    "    database = os.environ.get('DATABASE')\n",
    "    collection_name = f'{section_name}_collection'\n",
    "    with MongoConnectionManager(database, collection_name) as collection:\n",
    "        if sort_query:\n",
    "            data = list(collection.find(query, {'_id': 0}).sort(sort_query).skip(offset).limit(50))\n",
    "        else:\n",
    "            data = list(collection.find(query, {'_id': 0}).skip(offset).limit(50))\n",
    "    \n",
    "    return data"
   ]
  },
  {
   "cell_type": "code",
   "execution_count": 7,
   "metadata": {},
   "outputs": [],
   "source": [
    "def format_table_data(data):\n",
    "    result = []\n",
    "    for doc in data:\n",
    "        temp = {key.lower(): value for key, value in doc.items()}\n",
    "        result.append(temp)\n",
    "    \n",
    "    return result"
   ]
  },
  {
   "cell_type": "code",
   "execution_count": 8,
   "metadata": {},
   "outputs": [],
   "source": [
    "def prepare_table_response(section_name, payload):\n",
    "    page_number = payload.get('page', 1)\n",
    "    sort_parameters = payload.get('sort_parameters', None)\n",
    "    query_parameters = payload.get('query_parameters', {})\n",
    "    polygon = payload.get('polygon', None)\n",
    "    \n",
    "    if polygon:\n",
    "        data = get_map_based_table_data(section_name, query_parameters, page_number, sort_parameters, polygon)\n",
    "    else:\n",
    "        data = get_table_data(section_name, query_parameters, page_number, sort_parameters)\n",
    "    \n",
    "    response = format_table_data(data)\n",
    "    return response"
   ]
  },
  {
   "cell_type": "code",
   "execution_count": 9,
   "metadata": {},
   "outputs": [],
   "source": [
    "sample_query = {\n",
    "    'query_parameters': {'neighbourhood_code': ['BU', 'BF', 'MF']},\n",
    "    'page': 2,\n",
    "    'sort_parameters': {\n",
    "        'sort_fields':['floor_area', 'construction_year'],\n",
    "        'sort_directions':['1', '-1']\n",
    "    },\n",
    "    'polygon': [\n",
    "        [10.424374289351274, 60.197409458606614],\n",
    "        [11.204298074330882, 60.197409458606614],\n",
    "        [11.204298074330882, 59.67422595168185],\n",
    "        [10.424374289351274, 59.67422595168185],\n",
    "        [10.424374289351274, 60.197409458606614]\n",
    "    ]\n",
    "}"
   ]
  },
  {
   "cell_type": "code",
   "execution_count": 10,
   "metadata": {},
   "outputs": [],
   "source": [
    "section_name = os.environ.get('SECTION')\n",
    "data = prepare_table_response(section_name, sample_query)"
   ]
  },
  {
   "cell_type": "code",
   "execution_count": null,
   "metadata": {},
   "outputs": [],
   "source": [
    "pprint(data)"
   ]
  },
  {
   "cell_type": "code",
   "execution_count": null,
   "metadata": {},
   "outputs": [],
   "source": []
  }
 ],
 "metadata": {
  "interpreter": {
   "hash": "13d1778114034d34b564d3f7c2ae061006db3957e9fd1b7b2a9fbf02ccf80dfc"
  },
  "kernelspec": {
   "display_name": "Python 3.9.6 ('mongo-env': venv)",
   "language": "python",
   "name": "python3"
  },
  "language_info": {
   "codemirror_mode": {
    "name": "ipython",
    "version": 3
   },
   "file_extension": ".py",
   "mimetype": "text/x-python",
   "name": "python",
   "nbconvert_exporter": "python",
   "pygments_lexer": "ipython3",
   "version": "3.9.6"
  },
  "orig_nbformat": 4
 },
 "nbformat": 4,
 "nbformat_minor": 2
}
