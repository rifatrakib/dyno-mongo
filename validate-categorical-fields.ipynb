{
 "cells": [
  {
   "cell_type": "code",
   "execution_count": 4,
   "metadata": {},
   "outputs": [],
   "source": [
    "from utils import MongoConnectionManager, get_redis_instance\n",
    "import json"
   ]
  },
  {
   "cell_type": "code",
   "execution_count": 6,
   "metadata": {},
   "outputs": [],
   "source": [
    "redis = get_redis_instance()"
   ]
  },
  {
   "cell_type": "code",
   "execution_count": 19,
   "metadata": {},
   "outputs": [],
   "source": [
    "def read_static_data(section_name):\n",
    "    filter_key = f'{section_name}_skeleton'\n",
    "    data = json.loads(redis.get(filter_key))['filters']\n",
    "    \n",
    "    filters = {}\n",
    "    for key, value in data.items():\n",
    "        if value['input'] and value['type'] == 'select' and value['item_id'] != value['item_title']:\n",
    "            filters[key] = {\n",
    "                'item_id': value['item_id'],\n",
    "                'item_title': value['item_title'] if key != 'postal_region' else 'postal_code_label',\n",
    "            }\n",
    "    \n",
    "    return filters"
   ]
  },
  {
   "cell_type": "code",
   "execution_count": 28,
   "metadata": {},
   "outputs": [],
   "source": [
    "def build_facet_query(filters):\n",
    "    facet_query = {}\n",
    "    for key, value in filters.items():\n",
    "        item_id = value['item_id'].upper()\n",
    "        item_title = value['item_title'].upper()\n",
    "        \n",
    "        match_query = {\n",
    "            item_id: {'$ne': None},\n",
    "            item_title: {'$ne': None},\n",
    "        }\n",
    "        name_group_query = {\n",
    "            '_id': f'${item_title}',\n",
    "            'number': {'$first': f'${item_id}'},\n",
    "        }\n",
    "        number_group_query = {\n",
    "            '_id': '$number',\n",
    "            'items': {'$addToSet': '$_id'},\n",
    "            'count': {'$sum': 1}\n",
    "        }\n",
    "        duplicate_finder = {'count': {'$gt': 1}}\n",
    "        \n",
    "        facet_query[key] = [\n",
    "            {'$match': match_query},\n",
    "            {'$group': name_group_query},\n",
    "            {'$group': number_group_query},\n",
    "            {'$match': duplicate_finder},\n",
    "        ]\n",
    "    \n",
    "    return facet_query"
   ]
  },
  {
   "cell_type": "code",
   "execution_count": 34,
   "metadata": {},
   "outputs": [],
   "source": [
    "def fetch_data(section_name):\n",
    "    filters = read_static_data(section_name)\n",
    "    facet_query = build_facet_query(filters)\n",
    "    \n",
    "    with MongoConnectionManager('Dashboard', f'{section_name}_collection_temp') as collection:\n",
    "        data = list(collection.aggregate(pipeline=[{'$facet': facet_query}], allowDiskUse=True))[0]\n",
    "    \n",
    "    return data"
   ]
  },
  {
   "cell_type": "code",
   "execution_count": 42,
   "metadata": {},
   "outputs": [],
   "source": [
    "def verify_duplicacy(section_name):\n",
    "    data = fetch_data(section_name)\n",
    "    result = {'fields': []}\n",
    "    for key, value in data.items():\n",
    "        if value:\n",
    "            result['fields'].append(key)\n",
    "    \n",
    "    if result['fields']:\n",
    "        result['status'] = True\n",
    "        result['message'] = f'Duplicacy available in {section_name} data'\n",
    "    else:\n",
    "        result['status'] = False\n",
    "        result['message'] = f'No duplicate issues found in {section_name} data'\n",
    "    \n",
    "    return result"
   ]
  },
  {
   "cell_type": "code",
   "execution_count": 43,
   "metadata": {},
   "outputs": [
    {
     "name": "stdout",
     "output_type": "stream",
     "text": [
      "{'fields': [], 'status': False, 'message': 'No duplicate issues found in property data'}\n",
      "{'fields': [], 'status': False, 'message': 'No duplicate issues found in building data'}\n",
      "{'fields': [], 'status': False, 'message': 'No duplicate issues found in transaction data'}\n"
     ]
    }
   ],
   "source": [
    "views = ['property', 'building', 'transaction']\n",
    "for view in views:\n",
    "    result = verify_duplicacy(view)\n",
    "    print(result)"
   ]
  },
  {
   "cell_type": "code",
   "execution_count": null,
   "metadata": {},
   "outputs": [],
   "source": []
  }
 ],
 "metadata": {
  "kernelspec": {
   "display_name": "Python 3.9.6 ('mongo-env': venv)",
   "language": "python",
   "name": "python3"
  },
  "language_info": {
   "codemirror_mode": {
    "name": "ipython",
    "version": 3
   },
   "file_extension": ".py",
   "mimetype": "text/x-python",
   "name": "python",
   "nbconvert_exporter": "python",
   "pygments_lexer": "ipython3",
   "version": "3.9.6"
  },
  "orig_nbformat": 4,
  "vscode": {
   "interpreter": {
    "hash": "13d1778114034d34b564d3f7c2ae061006db3957e9fd1b7b2a9fbf02ccf80dfc"
   }
  }
 },
 "nbformat": 4,
 "nbformat_minor": 2
}
