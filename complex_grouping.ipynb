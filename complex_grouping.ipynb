{
 "cells": [
  {
   "cell_type": "code",
   "execution_count": 1,
   "metadata": {},
   "outputs": [],
   "source": [
    "from utils import MongoConnectionManager\n",
    "from pprint import pprint\n",
    "import json\n",
    "import os"
   ]
  },
  {
   "cell_type": "code",
   "execution_count": 16,
   "metadata": {},
   "outputs": [],
   "source": [
    "def process_output(data):\n",
    "    processed_data = {}\n",
    "    for key, value in data.items():\n",
    "        if type(value) == list:\n",
    "            component_data = []\n",
    "            for item in value:\n",
    "                component_data.append({'name': item['name'].title(), 'value': item['value']})\n",
    "            processed_data[key] = component_data\n",
    "        else:\n",
    "            processed_data[key] = value\n",
    "    return processed_data"
   ]
  },
  {
   "cell_type": "code",
   "execution_count": 20,
   "metadata": {},
   "outputs": [],
   "source": [
    "def prepare_chart_data(properties):\n",
    "    database = os.environ.get('DATABASE')\n",
    "    section = os.environ.get('SECTION')\n",
    "    pipeline = [\n",
    "        {'$match': {'PROPERTY_ID_NMA': {'$in': properties}}},\n",
    "        {\n",
    "            '$group': {\n",
    "                '_id': '$CITY_NAME',\n",
    "                'county': {'$first': '$COUNTY_NAME'},\n",
    "                'city': {'$first': '$CITY_NAME'},\n",
    "                'sum_area': {'$sum': '$UFS_TOTAL'},\n",
    "                'count': {'$sum': 1}\n",
    "            }\n",
    "        }, \n",
    "        {\n",
    "            '$group': {\n",
    "                '_id': '$county',\n",
    "                'county': {'$first': '$county'},\n",
    "                'area_by_city': {'$push': {'name': '$city', 'value': '$sum_area'}},\n",
    "                'value': {'$sum': '$count'},\n",
    "                'area_per_county': {'$sum': '$sum_area'}\n",
    "            }\n",
    "        }, \n",
    "        {\n",
    "            '$group': {\n",
    "                '_id': None,\n",
    "                'count_per_county': {'$push': {'name': '$county', 'value': '$value'}},\n",
    "                'area_by_city': {'$push': '$area_by_city'},\n",
    "                'total_area': {'$sum': '$area_per_county'},\n",
    "                'total_property': {'$sum': '$value'}\n",
    "            }\n",
    "        }, \n",
    "        {\n",
    "            '$project': {\n",
    "                '_id': 0,\n",
    "                'count_per_county': 1,\n",
    "                'area_by_city': {\n",
    "                    '$reduce': {\n",
    "                        'input': '$area_by_city',\n",
    "                        'initialValue': [],\n",
    "                        'in': {'$concatArrays': ['$$this', '$$value']}\n",
    "                    }\n",
    "                },\n",
    "                'total_area': 1,\n",
    "                'total_property': 1\n",
    "            }\n",
    "        }\n",
    "    ]\n",
    "    \n",
    "    with MongoConnectionManager(database, f'{section}_collection') as collection:\n",
    "        data = list(collection.aggregate(pipeline=pipeline, allowDiskUse=True))[0]\n",
    "    \n",
    "    processed_data = process_output(data)\n",
    "    return processed_data"
   ]
  },
  {
   "cell_type": "code",
   "execution_count": 21,
   "metadata": {},
   "outputs": [],
   "source": [
    "with open('chart-parameters.json', 'r') as reader:\n",
    "    ids = json.loads(reader.read())['ids']"
   ]
  },
  {
   "cell_type": "code",
   "execution_count": 24,
   "metadata": {},
   "outputs": [
    {
     "name": "stdout",
     "output_type": "stream",
     "text": [
      "{'area_by_city': [{'name': 'Sandnes', 'value': 26957.2},\n",
      "                  {'name': 'Hå', 'value': 0.0},\n",
      "                  {'name': 'Hjelmeland', 'value': 1504.0},\n",
      "                  {'name': 'Stavanger', 'value': 8878.0},\n",
      "                  {'name': 'Haugesund', 'value': 13882.0},\n",
      "                  {'name': 'Bamble', 'value': 791.0},\n",
      "                  {'name': 'Porsgrunn', 'value': 1820.0},\n",
      "                  {'name': 'Vinje', 'value': 106.0},\n",
      "                  {'name': 'Kragerø', 'value': 38002.2},\n",
      "                  {'name': 'Færder', 'value': 72.0},\n",
      "                  {'name': 'Tønsberg', 'value': 65.0},\n",
      "                  {'name': 'Vågan', 'value': 473.0},\n",
      "                  {'name': 'Kristiansand', 'value': 176.0},\n",
      "                  {'name': 'Arendal', 'value': 6450.0},\n",
      "                  {'name': 'Farsund', 'value': 604.0},\n",
      "                  {'name': 'Ringsaker', 'value': 0.0},\n",
      "                  {'name': 'Gran', 'value': 0.0},\n",
      "                  {'name': 'Malvik', 'value': 21949.0},\n",
      "                  {'name': 'Nærøysund', 'value': 0.0},\n",
      "                  {'name': 'Trondheim', 'value': 59441.0},\n",
      "                  {'name': 'Stjørdal', 'value': 4820.0},\n",
      "                  {'name': 'Askøy', 'value': 0.0},\n",
      "                  {'name': 'Sunnfjord', 'value': 128.0},\n",
      "                  {'name': 'Bergen', 'value': 3750.0},\n",
      "                  {'name': 'Alver', 'value': 0.0},\n",
      "                  {'name': 'Kinn', 'value': 2046.0},\n",
      "                  {'name': 'Øygarden', 'value': 8922.0},\n",
      "                  {'name': 'Stord', 'value': 0.0},\n",
      "                  {'name': 'Tromsø', 'value': 517.0},\n",
      "                  {'name': 'Hammerfest', 'value': 0.0},\n",
      "                  {'name': 'Harstad', 'value': 100.0},\n",
      "                  {'name': 'Bærum', 'value': 12860.0},\n",
      "                  {'name': 'Indre Østfold', 'value': 0.0},\n",
      "                  {'name': 'Kongsberg', 'value': 0.0},\n",
      "                  {'name': 'Nordre Follo', 'value': 1725.0},\n",
      "                  {'name': 'Nittedal', 'value': 0.0},\n",
      "                  {'name': 'Ås', 'value': 8431.0},\n",
      "                  {'name': 'Hol', 'value': 32761.6},\n",
      "                  {'name': 'Fredrikstad', 'value': 9313.8},\n",
      "                  {'name': 'Lillestrøm', 'value': 0.0},\n",
      "                  {'name': 'Krødsherad', 'value': 4272.6},\n",
      "                  {'name': 'Frogn', 'value': 919.5},\n",
      "                  {'name': 'Ullensaker', 'value': 34159.0},\n",
      "                  {'name': 'Drammen', 'value': 4727.0},\n",
      "                  {'name': 'Asker', 'value': 36206.3},\n",
      "                  {'name': 'Lørenskog', 'value': 7289.8},\n",
      "                  {'name': 'Nesodden', 'value': 0.0},\n",
      "                  {'name': 'Sarpsborg', 'value': 2597.0},\n",
      "                  {'name': 'Vestby', 'value': 687.0},\n",
      "                  {'name': 'Ålesund', 'value': 24156.0},\n",
      "                  {'name': 'Molde', 'value': 1464.0},\n",
      "                  {'name': 'Oslo', 'value': 168191.0}],\n",
      " 'count_per_county': [{'name': 'Oslo', 'value': 192},\n",
      "                      {'name': 'Møre Og Romsdal', 'value': 19},\n",
      "                      {'name': 'Viken', 'value': 418},\n",
      "                      {'name': 'Troms Og Finnmark', 'value': 18},\n",
      "                      {'name': 'Vestland', 'value': 52},\n",
      "                      {'name': 'Trøndelag', 'value': 77},\n",
      "                      {'name': 'Innlandet', 'value': 2},\n",
      "                      {'name': 'Agder', 'value': 13},\n",
      "                      {'name': 'Nordland', 'value': 2},\n",
      "                      {'name': 'Vestfold Og Telemark', 'value': 172},\n",
      "                      {'name': 'Rogaland', 'value': 110}],\n",
      " 'total_area': 551214.0,\n",
      " 'total_property': 1075}\n"
     ]
    }
   ],
   "source": [
    "data = prepare_chart_data(ids)\n",
    "pprint(data)"
   ]
  },
  {
   "cell_type": "code",
   "execution_count": null,
   "metadata": {},
   "outputs": [],
   "source": []
  }
 ],
 "metadata": {
  "kernelspec": {
   "display_name": "Python 3.9.6 ('mongo-env': venv)",
   "language": "python",
   "name": "python3"
  },
  "language_info": {
   "codemirror_mode": {
    "name": "ipython",
    "version": 3
   },
   "file_extension": ".py",
   "mimetype": "text/x-python",
   "name": "python",
   "nbconvert_exporter": "python",
   "pygments_lexer": "ipython3",
   "version": "3.9.6"
  },
  "orig_nbformat": 4,
  "vscode": {
   "interpreter": {
    "hash": "13d1778114034d34b564d3f7c2ae061006db3957e9fd1b7b2a9fbf02ccf80dfc"
   }
  }
 },
 "nbformat": 4,
 "nbformat_minor": 2
}
