{
 "cells": [
  {
   "cell_type": "code",
   "execution_count": 19,
   "metadata": {},
   "outputs": [],
   "source": [
    "from utils import MongoConnectionManager\n",
    "from pprint import pprint\n",
    "import json\n",
    "import os"
   ]
  },
  {
   "cell_type": "code",
   "execution_count": 2,
   "metadata": {},
   "outputs": [],
   "source": [
    "def get_dependencies(section_name):\n",
    "    with open(f'static/{section_name}_dependencies.json', 'r') as reader:\n",
    "        filters = json.loads(reader.read())\n",
    "    \n",
    "    fields = []\n",
    "    for key, value in filters.items():\n",
    "        if value['type'] == 'select' and value['input']:\n",
    "            fields.append(value['item_id'])\n",
    "    \n",
    "    field_names = {}\n",
    "    for field in fields:\n",
    "        field_names[field] = list(set(fields) - set([field]))\n",
    "    \n",
    "    return field_names"
   ]
  },
  {
   "cell_type": "code",
   "execution_count": 12,
   "metadata": {},
   "outputs": [],
   "source": [
    "def facet_query_builder(section_name):\n",
    "    fields = get_dependencies(section_name)\n",
    "    facet_query = {}\n",
    "    for field, dependents in fields.items():\n",
    "        field_name = field.upper()\n",
    "        match_query = {field_name: {'$ne': None}}\n",
    "        group_query = {'_id': f'${field_name}'}\n",
    "        for dep in dependents:\n",
    "            dep_field = dep.upper()\n",
    "            group_query[dep] = {\n",
    "                '$addToSet': {\n",
    "                    '$cond': {\n",
    "                        'if': {'$ne': [f'${dep_field}', None]},\n",
    "                        'then': f'${dep_field}',\n",
    "                        'else': '$$REMOVE'\n",
    "                    }\n",
    "                }\n",
    "            }\n",
    "        facet_query[field] = [\n",
    "            {'$match': match_query},\n",
    "            {'$group': group_query}\n",
    "        ]\n",
    "    return facet_query"
   ]
  },
  {
   "cell_type": "code",
   "execution_count": 13,
   "metadata": {},
   "outputs": [],
   "source": [
    "def get_filter_data(section_name):\n",
    "    pipeline = [{'$facet': facet_query_builder(section_name)}]\n",
    "    database = os.environ.get('DATABASE')\n",
    "    with MongoConnectionManager(database, f'{section_name}_collection') as collection:\n",
    "        data = list(collection.aggregate(pipeline=pipeline, allowDiskUse=True))[0]\n",
    "    return data"
   ]
  },
  {
   "cell_type": "code",
   "execution_count": 14,
   "metadata": {},
   "outputs": [],
   "source": [
    "def prepare_filter_data(data):\n",
    "    filter_data = {}\n",
    "    for key, value in data.items():\n",
    "        item_data = {}\n",
    "        for item in value:\n",
    "            item_id = item['_id']\n",
    "            item_data[item_id] = {k: v for k, v in item.items()}\n",
    "            del item_data[item_id]['_id']\n",
    "        filter_data[key] = item_data\n",
    "    return filter_data"
   ]
  },
  {
   "cell_type": "code",
   "execution_count": 15,
   "metadata": {},
   "outputs": [],
   "source": [
    "section_name = os.environ.get('SECTION')\n",
    "data = get_filter_data(section_name)\n",
    "filter_data = prepare_filter_data(data)"
   ]
  },
  {
   "cell_type": "code",
   "execution_count": null,
   "metadata": {},
   "outputs": [],
   "source": [
    "pprint(filter_data)"
   ]
  },
  {
   "cell_type": "code",
   "execution_count": null,
   "metadata": {},
   "outputs": [],
   "source": []
  }
 ],
 "metadata": {
  "interpreter": {
   "hash": "13d1778114034d34b564d3f7c2ae061006db3957e9fd1b7b2a9fbf02ccf80dfc"
  },
  "kernelspec": {
   "display_name": "Python 3.9.6 ('mongo-env': venv)",
   "language": "python",
   "name": "python3"
  },
  "language_info": {
   "codemirror_mode": {
    "name": "ipython",
    "version": 3
   },
   "file_extension": ".py",
   "mimetype": "text/x-python",
   "name": "python",
   "nbconvert_exporter": "python",
   "pygments_lexer": "ipython3",
   "version": "3.9.6"
  },
  "orig_nbformat": 4
 },
 "nbformat": 4,
 "nbformat_minor": 2
}
